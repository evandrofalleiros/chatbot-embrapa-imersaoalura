{
  "nbformat": 4,
  "nbformat_minor": 0,
  "metadata": {
    "colab": {
      "provenance": [],
      "toc_visible": true,
      "include_colab_link": true
    },
    "kernelspec": {
      "name": "python3",
      "display_name": "Python 3"
    },
    "language_info": {
      "name": "python"
    }
  },
  "cells": [
    {
      "cell_type": "markdown",
      "metadata": {
        "id": "view-in-github",
        "colab_type": "text"
      },
      "source": [
        "<a href=\"https://colab.research.google.com/github/evandrofalleiros/chatbot-embrapa-imersaoalura/blob/main/Chatbot_Agricultura_Familiar_Embrapa_IFMS.ipynb\" target=\"_parent\"><img src=\"https://colab.research.google.com/assets/colab-badge.svg\" alt=\"Open In Colab\"/></a>"
      ]
    },
    {
      "cell_type": "markdown",
      "source": [
        "# Chatbot - Agricultura Familiar\n",
        "\n",
        "Projeto desenvolvido durante a imersão de IA com Google Gemini promovida pela [Alura](https://alura.com.br) em parceria com a Google"
      ],
      "metadata": {
        "id": "ryFBz0OHfaYS"
      }
    },
    {
      "cell_type": "markdown",
      "source": [
        "<table>\n",
        "  <td>\n",
        "    <a href=\"https://colab.research.google.com/drive/1uP_uIH_wHpD164X7P1WuzYvJ02zif53I?usp=sharing\">\n",
        "      <img src=\"https://cloud.google.com/ml-engine/images/colab-logo-32px.png\" alt=\"Google Colaboratory logo\"><br> Executar no Colab\n",
        "    </a>\n",
        "  </td>  \n",
        "  <td>\n",
        "    <a href=\"https://github.com/evandrofalleiros/chatbot-embrapa-imersaoalura\">\n",
        "      <img src=\"https://cloud.google.com/ml-engine/images/github-logo-32px.png\" alt=\"GitHub logo\"><br> Visualizar no GitHub\n",
        "    </a>\n",
        "  </td>\n",
        "</table>\n",
        "\n",
        "| | |\n",
        "|-|-|\n",
        "|Autor | [Evandro Luís Souza Falleiros](https://ifms.edu.br) |\n",
        "|Contato | [evandro.falleiros@ifms.edu.br](mailto:evandro.falleiros@ifms.edu.br) |\n"
      ],
      "metadata": {
        "id": "dpwbwcHdfloV"
      }
    },
    {
      "cell_type": "markdown",
      "source": [
        "## Apresentação\n",
        "\n",
        "A [Embrapa Agropecuária Oeste - CPAO](https://www.embrapa.br/agropecuaria-oeste) e o [Instituto Federal de Mato Grosso do Sul - Campus Dourados](https://www.ifms.edu.br/campi/campus-dourados) lançaram em Abril de 2024 o [Tecnofam App](https://tecnofamapp.cpao.embrapa.br/), uma PWA por meio do qual são disponibilizadas informações técnicas voltadas para a agricultura familiar.\n",
        "\n",
        "Nessa aplicação, pequenos(as) produtores(as) tem acesso a um vasto e enriquecedor material que pode contribuir para o desenvolvimento das atividades em suas propriedades e instruir o produtor(a) rural com novos conhecimentos.\n",
        "\n",
        "Em linguagem de fácil compreensão, o material disponibilizado visa alcançar especialmente produtores com baixo grau de instrução ou pouco conhecimento de termos técnicos.\n",
        "\n",
        "Atualmente, o material completo pode ser acessado no endereço [https://tecnofamapp.cpao.embrapa.br/](https://tecnofamapp.cpao.embrapa.br/). Todo o conteúdo também pode ser acessado offline, caso o usuário tiver esta necessidade.\n",
        "\n",
        "### Chatbot\n",
        "\n",
        "Como projeto piloto, vislumbramos a possibilidade dos produtores(as) terem acesso a um Chatbot especializado em Agricultura Familiar, tendo como base todo o material produzido pela Embrapa CPAO.\n",
        "\n",
        "Essa é uma iniciativa de **inclusão digital** muito importante para que, cada vez mais, o pequeno(a) produtor(a) tenham o acesso facilitado às tecnologias e ao conhecimento.\n",
        "\n",
        "No futuro, o Chatbot implementado a seguir tende a ser incorporado no produto Tecnofam App."
      ],
      "metadata": {
        "id": "EpN2vBoffGk9"
      }
    },
    {
      "cell_type": "markdown",
      "source": [],
      "metadata": {
        "id": "OO_Lg6ZNfYDS"
      }
    },
    {
      "cell_type": "markdown",
      "source": [
        "## Começando\n",
        "\n",
        "A seguir, disponibilizamos todo o código-fonte necessário para a criação do Chatbot. As instruções foram separadas por seção para maior compreensão do processo de desenvolvimento.  "
      ],
      "metadata": {
        "id": "NjLxbmr-llq3"
      }
    },
    {
      "cell_type": "markdown",
      "source": [
        "### Instalação do SDK para uso do Gemini\n"
      ],
      "metadata": {
        "id": "A07UrUnVeWBP"
      }
    },
    {
      "cell_type": "code",
      "source": [
        "!pip install -q -U google-generativeai"
      ],
      "metadata": {
        "id": "yEo3EssCeYu9"
      },
      "execution_count": null,
      "outputs": []
    },
    {
      "cell_type": "markdown",
      "source": [
        "### Importação das bibliotecas necessárias"
      ],
      "metadata": {
        "id": "kjs4Wfe8mHAT"
      }
    },
    {
      "cell_type": "code",
      "source": [
        "from pathlib import Path\n",
        "import hashlib\n",
        "import google.generativeai as genai\n",
        "from google.colab import userdata"
      ],
      "metadata": {
        "id": "alHHSPUOmJE_"
      },
      "execution_count": null,
      "outputs": []
    },
    {
      "cell_type": "markdown",
      "source": [
        "### Configuração da API Key para acesso ao Gemini"
      ],
      "metadata": {
        "id": "xCh8TdBgmRwz"
      }
    },
    {
      "cell_type": "code",
      "source": [
        "api_key = userdata.get(\"SECRET_KEY\")\n",
        "genai.configure(api_key=api_key)"
      ],
      "metadata": {
        "id": "TZEgvZ_3mgDH"
      },
      "execution_count": null,
      "outputs": []
    },
    {
      "cell_type": "markdown",
      "source": [
        "### Configuração e inicialização do Gemini"
      ],
      "metadata": {
        "id": "i-EA3tYnd21J"
      }
    },
    {
      "cell_type": "markdown",
      "source": [
        "#### Configuração para geração e saídas de modelos"
      ],
      "metadata": {
        "id": "wHeJtS56nEFq"
      }
    },
    {
      "cell_type": "code",
      "execution_count": null,
      "metadata": {
        "id": "kMi3pWNXbH10"
      },
      "outputs": [],
      "source": [
        "generation_config = {\n",
        "  \"temperature\": 0.2,\n",
        "  \"max_output_tokens\": 8192,\n",
        "}"
      ]
    },
    {
      "cell_type": "markdown",
      "source": [
        "#### Configurações de segurança\n"
      ],
      "metadata": {
        "id": "VTI4BfAjnI-o"
      }
    },
    {
      "cell_type": "code",
      "source": [
        "safety_settings = [\n",
        "  {\n",
        "    \"category\": \"HARM_CATEGORY_HARASSMENT\",\n",
        "    \"threshold\": \"BLOCK_LOW_AND_ABOVE\"\n",
        "  },\n",
        "  {\n",
        "    \"category\": \"HARM_CATEGORY_HATE_SPEECH\",\n",
        "    \"threshold\": \"BLOCK_LOW_AND_ABOVE\"\n",
        "  },\n",
        "  {\n",
        "    \"category\": \"HARM_CATEGORY_SEXUALLY_EXPLICIT\",\n",
        "    \"threshold\": \"BLOCK_LOW_AND_ABOVE\"\n",
        "  },\n",
        "  {\n",
        "    \"category\": \"HARM_CATEGORY_DANGEROUS_CONTENT\",\n",
        "    \"threshold\": \"BLOCK_LOW_AND_ABOVE\"\n",
        "  },\n",
        "]"
      ],
      "metadata": {
        "id": "TtVskLl8nNIx"
      },
      "execution_count": null,
      "outputs": []
    },
    {
      "cell_type": "markdown",
      "source": [
        "#### Instruções para o modelo"
      ],
      "metadata": {
        "id": "3-mX6FrNnSxj"
      }
    },
    {
      "cell_type": "markdown",
      "source": [
        "Como instruções para o modelo, é importante delimitarmos o escopo de interação, tendo como base o perfil dos usuários (produtores(as))."
      ],
      "metadata": {
        "id": "KR4pROT-AVlt"
      }
    },
    {
      "cell_type": "code",
      "source": [
        "system_instruction = \"\"\"\n",
        "  Estou implementando para a Embrapa CPAO (Dourados-MS) um chatbot que tem como base de conhecimento uma\n",
        "  Cartilha de Agricultura Familiar da própria Embrapa. Esse material é todo produzido\n",
        "  por pesquisadores da Embrapa. A ideia é que um pequeno produtor ou produtora possam perguntar\n",
        "  assuntos diretamente relacionados com esse material. Contudo, esse público tem uma linguagem bem simples,\n",
        "  característica de pessoas com baixa ou nenhuma escolaridade. Gostaria que as respostas sempre fossem simples\n",
        "  e próximas a este público. Também faça perguntas para que a interação tenha um guia de conversa, pois,\n",
        "  o público pode ficar tímido e não fazer muitas perguntas inicialmente. No início das interações, de as\n",
        "  boas vindas ao usuário(a) e pergunte seu nome. É importante estabelecer um vínculo amigável.\n",
        "  Assim que o usuário informar seu nome, aí sim você deve perguntar a ele quais são as dúvidas ou perguntas\n",
        "  que ele quer fazer.  Esse público também gosta de ser tratado com educação. Então, utilize cordialmente\n",
        "  os termos senhor e senhora durante as interações. Sempre que achar necessário, informe o usuário que\n",
        "  o material completo para leitura pode ser encontrado no endereço https://tecnofamapp.cpao.embrapa.br/.\n",
        "  Mas, não faça a sugestão de acesso a este endereço em excesso, pois, não queremos passar a impressão\n",
        "  de que não temos as respostas que o usuário procura.\n",
        "  Se possível, indicar o capítulo nesse endereço que aborda o assunto que está sendo discutido no chat.\n",
        "  No citar o site do Tecnofam App logo nas duas primeiras interações\"\"\""
      ],
      "metadata": {
        "id": "XUxCzDPFnVjS"
      },
      "execution_count": null,
      "outputs": []
    },
    {
      "cell_type": "markdown",
      "source": [
        "#### Inicialização e carregamento do modelo"
      ],
      "metadata": {
        "id": "asqstSDLnYy3"
      }
    },
    {
      "cell_type": "code",
      "source": [
        "model = genai.GenerativeModel(model_name=\"gemini-1.5-pro-latest\",\n",
        "                              generation_config=generation_config,\n",
        "                              system_instruction=system_instruction,\n",
        "                              safety_settings=safety_settings)"
      ],
      "metadata": {
        "id": "nwPVm4OHnbGQ"
      },
      "execution_count": null,
      "outputs": []
    },
    {
      "cell_type": "markdown",
      "source": [
        "#### Embedding dos documentos da Embrapa\n",
        "\n",
        "Os documentos da cartilha de Agricultura Familiar da Embrapa estão no Google Drive, todos no formato Markdown. A seguir, damos acesso ao Colab para que o acesso à pasta no Drive seja garantido"
      ],
      "metadata": {
        "id": "6yTqxXC0oR7o"
      }
    },
    {
      "cell_type": "code",
      "source": [
        "from google.colab import drive\n",
        "drive.mount('/content/drive', force_remount=True)"
      ],
      "metadata": {
        "id": "-8bBoop5UaU0"
      },
      "execution_count": null,
      "outputs": []
    },
    {
      "cell_type": "markdown",
      "source": [
        "Todos os documentos Markdown disponíveis no Drive são acessados e processados para a criação da lista de documentos que serão incorporados no modelo"
      ],
      "metadata": {
        "id": "LpPl_x6u68dc"
      }
    },
    {
      "cell_type": "code",
      "source": [
        "import numpy as np\n",
        "import pandas as pd\n",
        "import os\n",
        "\n",
        "diretorio = \"/content/drive/MyDrive/docs-tecnofam/\"\n",
        "documentos = []\n",
        "\n",
        "for root, directories, files in os.walk(diretorio):\n",
        "    for file in files:\n",
        "        with open(os.path.join(root, file), 'r') as arquivo:\n",
        "          documentos.append({\n",
        "              \"titulo\": file,\n",
        "              \"conteudo\": arquivo.read()\n",
        "          })"
      ],
      "metadata": {
        "id": "moQPZcw77cOG"
      },
      "execution_count": null,
      "outputs": []
    },
    {
      "cell_type": "markdown",
      "source": [
        "Agora, é hora de criarmos um Data Frame com os documentos que serão incorporados no modelo."
      ],
      "metadata": {
        "id": "jOyFutC67wOU"
      }
    },
    {
      "cell_type": "code",
      "source": [
        "df = pd.DataFrame(documentos)\n",
        "df.columns = [\"titulo\", \"conteudo\"]"
      ],
      "metadata": {
        "id": "SP6C1ST6YEky"
      },
      "execution_count": null,
      "outputs": []
    },
    {
      "cell_type": "code",
      "source": [
        "def embed_fn(titulo, texto):\n",
        "  return genai.embed_content(model=\"models/text-embedding-004\",\n",
        "                             content=texto,\n",
        "                             title=titulo,\n",
        "                             task_type=\"RETRIEVAL_DOCUMENT\")[\"embedding\"]"
      ],
      "metadata": {
        "id": "_nkKGqvgYLUi"
      },
      "execution_count": null,
      "outputs": []
    },
    {
      "cell_type": "code",
      "source": [
        "df[\"Embeddings\"] = df.apply(lambda row: embed_fn(row[\"titulo\"], row[\"conteudo\"]), axis=1)"
      ],
      "metadata": {
        "id": "PwciZamBYZGT"
      },
      "execution_count": null,
      "outputs": []
    },
    {
      "cell_type": "markdown",
      "source": [
        "A função gerar_e_buscar_consulta, tem como objetivo gerar uma representação vetorial (embedding) para uma consulta específica e, em seguida, recuperar o documento (conteúdo) mais relevante de um conjunto de dados com base na similaridade entre a representação da consulta e as representações dos documentos."
      ],
      "metadata": {
        "id": "Ie98a0rV7b7D"
      }
    },
    {
      "cell_type": "code",
      "source": [
        "def gerar_e_buscar_consulta(consulta, base):\n",
        "  embedding_da_consulta = genai.embed_content(model=\"models/text-embedding-004\",\n",
        "                                              content=consulta,\n",
        "                                              task_type=\"RETRIEVAL_QUERY\")[\"embedding\"]\n",
        "\n",
        "  produtos_escalares = np.dot(np.stack(df[\"Embeddings\"]), embedding_da_consulta)\n",
        "\n",
        "  indice = np.argmax(produtos_escalares)\n",
        "  return df.iloc[indice][\"conteudo\"]"
      ],
      "metadata": {
        "id": "-xYccBrMYm6S"
      },
      "execution_count": null,
      "outputs": []
    },
    {
      "cell_type": "markdown",
      "source": [
        "## ***Chatbot***"
      ],
      "metadata": {
        "id": "5RHq4FAKpZsK"
      }
    },
    {
      "cell_type": "markdown",
      "source": [
        "### Melhoria da visualização das mensagens no Chat\n",
        "\n",
        "Implementamos uma formatação visual para melhor visualização e interação com o chat."
      ],
      "metadata": {
        "id": "3wVMwtXCzbCL"
      }
    },
    {
      "cell_type": "code",
      "source": [
        "import textwrap\n",
        "from IPython.display import display\n",
        "from IPython.display import Markdown\n",
        "import re\n",
        "\n",
        "def formatar_md(msg, nome_cor=\"#FF0000\", fala_cor=\"#008000\", acao_cor=\"#0000FF\"):\n",
        "  \"\"\"\n",
        "  Função para formatar mensagens em Markdown para o Google Colab com cores personalizáveis, quebra de linhas e suporte a links.\n",
        "\n",
        "  Args:\n",
        "    msg: Objeto contendo a mensagem a ser formatada (por exemplo, saída de um chatbot).\n",
        "    nome_cor (opcional): Cor HTML para o nome do personagem (padrão: vermelho).\n",
        "    fala_cor (opcional): Cor HTML para a fala do personagem (padrão: verde).\n",
        "    acao_cor (opcional): Cor HTML para ações do personagem (padrão: azul).\n",
        "\n",
        "  Retorna:\n",
        "    Nada (a formatação é exibida no notebook).\n",
        "  \"\"\"\n",
        "\n",
        "  texto_formatado = \"\"\n",
        "\n",
        "  # Formata o nome do personagem\n",
        "  if msg.role == \"model\":\n",
        "    texto_formatado += f'<div style=\"color: {nome_cor};\">**Gemini**: </div>'\n",
        "  else:\n",
        "    texto_formatado += f'<div style=\"color: {nome_cor};\">**{msg.role}**: </div>'\n",
        "\n",
        "  # Formata a fala do personagem com quebra de linhas automática\n",
        "  line_break_tag = \"<br>\"\n",
        "  backslash = \"\\n\"\n",
        "  texto_formatado += f'<span style=\"color: {fala_cor};\">{msg.parts[0].text.replace(backslash, line_break_tag)}</span>'\n",
        "\n",
        "  # Formata ações (se houver)\n",
        "  if msg.parts[1:]:\n",
        "    texto_formatado += f' <span style=\"color: {acao_cor};\">({\", \".join(msg.parts[1:])})</span>'\n",
        "\n",
        "  # Detecta e formata links (se houver)\n",
        "  for link in re.findall(r\"(https?://[^\\s]+)\", msg.parts[0].text):\n",
        "    texto_formatado += f' <a href=\"{link}\" target=\"_blank\">{link}</a>'\n",
        "\n",
        "  # Exibe a mensagem formatada no Markdown\n",
        "  display(Markdown(textwrap.indent(texto_formatado, '> ', predicate=lambda _: True)))\n",
        "\n",
        "  # Linha divisória para melhor legibilidade\n",
        "  print('-------------------------------------------')\n"
      ],
      "metadata": {
        "id": "m0k-yPzSztwY"
      },
      "execution_count": null,
      "outputs": []
    },
    {
      "cell_type": "markdown",
      "source": [
        "### Teste do Chatbot implementado\n",
        "\n",
        "O Chatbot a seguir está configurado para interagir com os produtores(as). Seguem sugestões de texto para a interação com o chat:\n",
        "\n",
        "\n",
        "*   estou com uma dúvida produzo gado de corte e de leite. como devo usar a pastagem?\n",
        "*   eu penso em usar capim-elefante. To coreto no uso dele?\n",
        "*   si não for usar o campi o que posso usa?\n",
        "\n",
        "\n",
        "> **Atenção: dado o contexto de uso, os textos de sugestões apresentam erros intencionais.**\n",
        "\n",
        "\n",
        "\n"
      ],
      "metadata": {
        "id": "vkXLyJf247at"
      }
    },
    {
      "cell_type": "code",
      "source": [
        "msg_boas_vindas = \"Olá! Tudo bem? Seja bem-vindo(a)! Meu nome é **Gemini**. Antes de começarmos, me diga: qual é o nome do senhor ou da senhora?\"\n",
        "\n",
        "history=[\n",
        "  {\n",
        "    \"role\": \"model\",\n",
        "    \"parts\": [msg_boas_vindas]\n",
        "  }\n",
        "]\n",
        "\n",
        "chat = model.start_chat(history=history)\n",
        "formatar_md(chat.history[-1])\n",
        "entrada_usuario=input()\n",
        "\n",
        "resposta = chat.send_message(entrada_usuario)\n",
        "formatar_md(chat.history[-1])\n",
        "\n",
        "while entrada_usuario != \"fim\":\n",
        "  entrada_usuario = input()\n",
        "\n",
        "  trecho = gerar_e_buscar_consulta(entrada_usuario, df)\n",
        "  prompt = f\"Reescreva esse texto seguindo os system_instruction fornecido no modelo. Considerar primordialmente, sem adicionar informações que não façam parte do contexto a seguir: {trecho}\"\n",
        "  resposta = chat.send_message(prompt)\n",
        "\n",
        "  formatar_md(chat.history[-1])"
      ],
      "metadata": {
        "id": "dL4VLCNHtmKD"
      },
      "execution_count": null,
      "outputs": []
    }
  ]
}