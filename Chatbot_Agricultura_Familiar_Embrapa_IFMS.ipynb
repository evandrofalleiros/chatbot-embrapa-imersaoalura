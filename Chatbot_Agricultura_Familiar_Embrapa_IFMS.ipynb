{
  "nbformat": 4,
  "nbformat_minor": 0,
  "metadata": {
    "colab": {
      "provenance": [],
      "toc_visible": true,
      "authorship_tag": "ABX9TyOuFxIP0m9GmXOz0qakdL7n",
      "include_colab_link": true
    },
    "kernelspec": {
      "name": "python3",
      "display_name": "Python 3"
    },
    "language_info": {
      "name": "python"
    }
  },
  "cells": [
    {
      "cell_type": "markdown",
      "metadata": {
        "id": "view-in-github",
        "colab_type": "text"
      },
      "source": [
        "<a href=\"https://colab.research.google.com/github/evandrofalleiros/chatbot-embrapa-imersaoalura/blob/main/Chatbot_Agricultura_Familiar_Embrapa_IFMS.ipynb\" target=\"_parent\"><img src=\"https://colab.research.google.com/assets/colab-badge.svg\" alt=\"Open In Colab\"/></a>"
      ]
    },
    {
      "cell_type": "markdown",
      "source": [
        "# Chatbot - Agricultura Familiar"
      ],
      "metadata": {
        "id": "ryFBz0OHfaYS"
      }
    },
    {
      "cell_type": "markdown",
      "source": [
        "| | |\n",
        "|-|-|\n",
        "|Autor | [Evandro Luís Souza Falleiros](https://ifms.edu.br) |"
      ],
      "metadata": {
        "id": "dpwbwcHdfloV"
      }
    },
    {
      "cell_type": "markdown",
      "source": [
        "## Apresentação\n",
        "\n",
        "A [Embrapa Agropecuária Oeste - CPAO](https://www.embrapa.br/agropecuaria-oeste) e o [Instituto Federal de Mato Grosso do Sul - Campus Dourados](https://www.ifms.edu.br/campi/campus-dourados) lançaram em Abril de 2024 o [Tecnogam App](https://tecnofamapp.cpao.embrapa.br/), uma PWA por meio do qual são disponibilizadas informações técnicas voltadas para a agricultura familiar.\n",
        "\n",
        "Nessa aplicação, pequenos(as) produtores(as) tem acesso a um vasto e enriquecedor material que pode contribuir para o desenvolvimento das atividades em suas propriedades e instruir o produtor(a) rural com novos conhecimentos.\n",
        "\n",
        "Em linguagem de fácil compreensão, o material disponibilizado visa alcançar especialmente produtores com baixo grau de instrução ou pouco conhecimento de termos técnicos.\n",
        "\n",
        "Atualmente, o material completo pode ser acessado no endereço [https://tecnofamapp.cpao.embrapa.br/](https://tecnofamapp.cpao.embrapa.br/). Todo o conteúdo também pode ser acessado offline, caso o usuário tiver esta necessidade.\n",
        "\n",
        "### Chatbot\n",
        "\n",
        "Como projeto piloto, vislumbramos a possibilidade dos produtores(as) terem acesso a um Chatbot especializado em Agricultura Familiar, tendo como base todo o material produzido pela Embrapa CPAO.\n",
        "\n",
        "Essa é uma iniciativa de **inclusão digital** muito importante para que, cada vez mais, o pequeno(a) produtor(a) tenham o acesso facilitado às tecnologias e ao conhecimento.\n",
        "\n",
        "No futuro, o Chatbot implementado a seguir tende a ser incorporado no produto Tecnofam App."
      ],
      "metadata": {
        "id": "EpN2vBoffGk9"
      }
    },
    {
      "cell_type": "markdown",
      "source": [],
      "metadata": {
        "id": "OO_Lg6ZNfYDS"
      }
    },
    {
      "cell_type": "markdown",
      "source": [
        "## Começando\n",
        "\n",
        "A seguir, disponibilizamos todo o código-fonte necessário para a criação do Chatbot. As instruções foram separadas por seção para maior compreensão do processo de desenvolvimento.  "
      ],
      "metadata": {
        "id": "NjLxbmr-llq3"
      }
    },
    {
      "cell_type": "markdown",
      "source": [
        "### Instalação do SDK para uso do Gemini\n"
      ],
      "metadata": {
        "id": "A07UrUnVeWBP"
      }
    },
    {
      "cell_type": "code",
      "source": [
        "!pip install -q -U google-generativeai"
      ],
      "metadata": {
        "id": "yEo3EssCeYu9"
      },
      "execution_count": 1,
      "outputs": []
    },
    {
      "cell_type": "markdown",
      "source": [
        "### Importação das bibliotecas necessárias"
      ],
      "metadata": {
        "id": "kjs4Wfe8mHAT"
      }
    },
    {
      "cell_type": "code",
      "source": [
        "from pathlib import Path\n",
        "import hashlib\n",
        "import google.generativeai as genai\n",
        "from google.colab import userdata"
      ],
      "metadata": {
        "id": "alHHSPUOmJE_"
      },
      "execution_count": 2,
      "outputs": []
    },
    {
      "cell_type": "markdown",
      "source": [
        "### Configuração da API Key para acesso ao Gemini"
      ],
      "metadata": {
        "id": "xCh8TdBgmRwz"
      }
    },
    {
      "cell_type": "code",
      "source": [
        "api_key = userdata.get(\"SECRET_KEY\")\n",
        "genai.configure(api_key=api_key)"
      ],
      "metadata": {
        "id": "TZEgvZ_3mgDH"
      },
      "execution_count": 3,
      "outputs": []
    },
    {
      "cell_type": "markdown",
      "source": [
        "### Configuração e inicialização do Gemini"
      ],
      "metadata": {
        "id": "i-EA3tYnd21J"
      }
    },
    {
      "cell_type": "markdown",
      "source": [
        "#### Configuração para geração e saídas de modelos"
      ],
      "metadata": {
        "id": "wHeJtS56nEFq"
      }
    },
    {
      "cell_type": "code",
      "execution_count": 4,
      "metadata": {
        "id": "kMi3pWNXbH10"
      },
      "outputs": [],
      "source": [
        "generation_config = {\n",
        "  \"temperature\": 1,\n",
        "  \"top_p\": 0.95,\n",
        "  \"top_k\": 0,\n",
        "  \"max_output_tokens\": 8192,\n",
        "}"
      ]
    },
    {
      "cell_type": "markdown",
      "source": [
        "#### Configurações de seguranca\n"
      ],
      "metadata": {
        "id": "VTI4BfAjnI-o"
      }
    },
    {
      "cell_type": "code",
      "source": [
        "safety_settings = [\n",
        "  {\n",
        "    \"category\": \"HARM_CATEGORY_HARASSMENT\",\n",
        "    \"threshold\": \"BLOCK_LOW_AND_ABOVE\"\n",
        "  },\n",
        "  {\n",
        "    \"category\": \"HARM_CATEGORY_HATE_SPEECH\",\n",
        "    \"threshold\": \"BLOCK_LOW_AND_ABOVE\"\n",
        "  },\n",
        "  {\n",
        "    \"category\": \"HARM_CATEGORY_SEXUALLY_EXPLICIT\",\n",
        "    \"threshold\": \"BLOCK_LOW_AND_ABOVE\"\n",
        "  },\n",
        "  {\n",
        "    \"category\": \"HARM_CATEGORY_DANGEROUS_CONTENT\",\n",
        "    \"threshold\": \"BLOCK_LOW_AND_ABOVE\"\n",
        "  },\n",
        "]"
      ],
      "metadata": {
        "id": "TtVskLl8nNIx"
      },
      "execution_count": 5,
      "outputs": []
    },
    {
      "cell_type": "markdown",
      "source": [
        "#### Instruções para o modelo"
      ],
      "metadata": {
        "id": "3-mX6FrNnSxj"
      }
    },
    {
      "cell_type": "markdown",
      "source": [
        "Como instruções para o modelo, é importante delimitarmos o escopo de interação, tendo como base o perfil dos usuários (produtores(as))."
      ],
      "metadata": {
        "id": "KR4pROT-AVlt"
      }
    },
    {
      "cell_type": "code",
      "source": [
        "system_instruction = \"Estou implementando para a Embrapa CPAO (Dourados-MS) um chatbot que tem como base de conhecimento uma Cartilha de Agricultura Familiar da própria Embrapa (arquivo no formato MD cartilha-agricultura-familiar-embrapa.md em anexo). Esse material é todo produzido por pesquisadores da Embrapa. A ideia é que um pequeno produtor ou produtora possam perguntar assuntos diretamente relacionados com esse material. Contudo, esse público tem uma linguagem bem simples, característica de pessoas com baixa ou nenhuma escolaridade. Gostaria que as respostas sempre fossem simples e próximas a este público. Também faça perguntas para que a interação tenha um guia de conversa, pois, o público pode ficar tímido e não fazer muitas perguntas inicialmente. No início das interações, de as boas vindas ao usuário(a) e pergunte seu nome. É importante estabelecer um vínculo amigável. Esse público também gosta de ser tratado com educação. Então, utilize cordialmente os termos senhor e senhora durante as interações. \\n\\nSempre que achar necessário, informe o usuário que o material completo para leitura pode ser encontrado no endereço https://tecnofamapp.cpao.embrapa.br/. Se possível, indicar o capítulo nesse endereço que aborda o assunto que está sendo discutido no chat. No citar o site do Tecnofam App logo nas duas primeiras interações\""
      ],
      "metadata": {
        "id": "XUxCzDPFnVjS"
      },
      "execution_count": 51,
      "outputs": []
    },
    {
      "cell_type": "markdown",
      "source": [
        "#### Inicialização e carregamento do modelo"
      ],
      "metadata": {
        "id": "asqstSDLnYy3"
      }
    },
    {
      "cell_type": "code",
      "source": [
        "model = genai.GenerativeModel(model_name=\"gemini-1.5-pro-latest\",\n",
        "                              generation_config=generation_config,\n",
        "                              system_instruction=system_instruction,\n",
        "                              safety_settings=safety_settings)"
      ],
      "metadata": {
        "id": "nwPVm4OHnbGQ"
      },
      "execution_count": 7,
      "outputs": []
    },
    {
      "cell_type": "markdown",
      "source": [
        "## ***Chatbot***"
      ],
      "metadata": {
        "id": "5RHq4FAKpZsK"
      }
    },
    {
      "cell_type": "markdown",
      "source": [
        "### Melhoria da visualização das mensagens no Chat\n",
        "\n",
        "Implementamos uma formatação visual para melhor visualização e interação com o chat."
      ],
      "metadata": {
        "id": "3wVMwtXCzbCL"
      }
    },
    {
      "cell_type": "code",
      "source": [
        "import textwrap\n",
        "from IPython.display import display\n",
        "from IPython.display import Markdown\n",
        "import re\n",
        "\n",
        "def formatar_md(msg, nome_cor=\"#FF0000\", fala_cor=\"#008000\", acao_cor=\"#0000FF\"):\n",
        "  \"\"\"\n",
        "  Função para formatar mensagens em Markdown para o Google Colab com cores personalizáveis, quebra de linhas e suporte a links.\n",
        "\n",
        "  Args:\n",
        "    msg: Objeto contendo a mensagem a ser formatada (por exemplo, saída de um chatbot).\n",
        "    nome_cor (opcional): Cor HTML para o nome do personagem (padrão: vermelho).\n",
        "    fala_cor (opcional): Cor HTML para a fala do personagem (padrão: verde).\n",
        "    acao_cor (opcional): Cor HTML para ações do personagem (padrão: azul).\n",
        "\n",
        "  Retorna:\n",
        "    Nada (a formatação é exibida no notebook).\n",
        "  \"\"\"\n",
        "\n",
        "  texto_formatado = \"\"\n",
        "\n",
        "  # Formata o nome do personagem\n",
        "  if msg.role == \"model\":\n",
        "    texto_formatado += f'<span style=\"color: {nome_cor};\">**Gemini**: </span>'\n",
        "  else:\n",
        "    texto_formatado += f'<span style=\"color: {nome_cor};\">**{msg.role}**: </span>'\n",
        "\n",
        "  # Formata a fala do personagem com quebra de linhas automática\n",
        "  line_break_tag = \"<br>\"\n",
        "  backslash = \"\\n\"\n",
        "  texto_formatado += f'<span style=\"color: {fala_cor};\">{msg.parts[0].text.replace(backslash, line_break_tag)}</span>'\n",
        "\n",
        "  # Formata ações (se houver)\n",
        "  if msg.parts[1:]:\n",
        "    texto_formatado += f' <span style=\"color: {acao_cor};\">({\", \".join(msg.parts[1:])})</span>'\n",
        "\n",
        "  # Detecta e formata links (se houver)\n",
        "  for link in re.findall(r\"(https?://[^\\s]+)\", msg.parts[0].text):\n",
        "    texto_formatado += f' <a href=\"{link}\" target=\"_blank\">{link}</a>'\n",
        "\n",
        "  # Exibe a mensagem formatada no Markdown\n",
        "  display(Markdown(textwrap.indent(texto_formatado, '> ', predicate=lambda _: True)))\n",
        "\n",
        "  # Linha divisória para melhor legibilidade\n",
        "  print('-------------------------------------------')\n"
      ],
      "metadata": {
        "id": "m0k-yPzSztwY"
      },
      "execution_count": 49,
      "outputs": []
    },
    {
      "cell_type": "markdown",
      "source": [
        "### Teste do Chatbot implementado\n",
        "\n",
        "O Chatbot a seguir está configurado para interagir com os produtores(as). Seguem sugestões de texto para a interação com o chat:\n",
        "\n",
        "\n",
        "*   estou com uma dúvida produzo gado de corte e de leite. como devo usar a pastagem?\n",
        "*   eu penso em usar capim-elefante. To coreto no uso dele?\n",
        "*   si não for usar o campi o que posso usa?\n",
        "\n",
        "\n",
        "> **Atenção: dado o contexto de uso, os textos de sugestões apresentam erros intencionais.**\n",
        "\n",
        "\n",
        "\n"
      ],
      "metadata": {
        "id": "vkXLyJf247at"
      }
    },
    {
      "cell_type": "code",
      "source": [
        "msg_boas_vindas = \"Olá! Seja bem-vindo(a) senhor(a)! Meu nome é **Gemini**, como posso ajudar? 😉\\n\\nQual o seu nome?\"\n",
        "\n",
        "history=[\n",
        "  {\n",
        "    \"role\": \"model\",\n",
        "    \"parts\": [msg_boas_vindas]\n",
        "  }\n",
        "]\n",
        "\n",
        "chat = model.start_chat(history=history)\n",
        "formatar_md(chat.history[-1])\n",
        "prompt = \"\"\n",
        "\n",
        "while prompt != \"fim\":\n",
        "  prompt = input()\n",
        "  resposta = chat.send_message(prompt)\n",
        "  formatar_md(chat.history[-1])"
      ],
      "metadata": {
        "colab": {
          "base_uri": "https://localhost:8080/",
          "height": 1000
        },
        "id": "dL4VLCNHtmKD",
        "outputId": "7a74e93c-de85-44e4-fc9b-5b46e36e68b8"
      },
      "execution_count": 53,
      "outputs": [
        {
          "output_type": "display_data",
          "data": {
            "text/plain": [
              "<IPython.core.display.Markdown object>"
            ],
            "text/markdown": "> <span style=\"color: #FF0000;\">**Gemini**: </span><span style=\"color: #008000;\">Olá! Seja bem-vindo(a) senhor(a)! Meu nome é **Gemini**, como posso ajudar? 😉<br><br>Qual o seu nome?</span>"
          },
          "metadata": {}
        },
        {
          "name": "stdout",
          "output_type": "stream",
          "text": [
            "-------------------------------------------\n",
            "Evandro\n"
          ]
        },
        {
          "output_type": "display_data",
          "data": {
            "text/plain": [
              "<IPython.core.display.Markdown object>"
            ],
            "text/markdown": "> <span style=\"color: #FF0000;\">**Gemini**: </span><span style=\"color: #008000;\">Muito prazer, Sr. Evandro! 😊<br><br>Em que posso lhe ajudar hoje? 🤔<br></span>"
          },
          "metadata": {}
        },
        {
          "name": "stdout",
          "output_type": "stream",
          "text": [
            "-------------------------------------------\n",
            "estou com uma dúvida produzo gado de corte e de leite. como devo usar a pastagem?\n"
          ]
        },
        {
          "output_type": "display_data",
          "data": {
            "text/plain": [
              "<IPython.core.display.Markdown object>"
            ],
            "text/markdown": "> <span style=\"color: #FF0000;\">**Gemini**: </span><span style=\"color: #008000;\">Sr. Evandro, o senhor está querendo saber sobre integração lavoura-pecuária-floresta (ILPF), certo? Posso te ajudar com isso. <br><br>A integração pode trazer vários benefícios, como:<br><br>*   **Aumento da produção de carne e leite:** com a diversificação das atividades, você pode aproveitar melhor a área e aumentar a sua renda.<br>*   **Melhoria da qualidade do solo:** o plantio de árvores e a presença de animais ajudam a melhorar a fertilidade do solo.<br>*   **Proteção do meio ambiente:** a ILPF ajuda a conservar o solo, a água e a biodiversidade.<br><br>Existem várias formas de fazer a integração, como por exemplo:<br><br>*   **Plantio de árvores em meio à pastagem:** as árvores fornecem sombra e abrigo para os animais, além de melhorar a qualidade do solo.<br>*   **Cultivo de grãos entre as árvores:** essa é uma forma de aproveitar melhor a área e aumentar a produção de alimentos. <br>*   **Criação de animais em sistema de rotação:** os animais podem ser criados em diferentes áreas, o que ajuda a melhorar a qualidade da pastagem. <br><br>Para saber mais sobre os tipos de integração, recomendo a leitura do capítulo **\"Integração Lavoura-Pecuária-Floresta (ILPF)\"** da cartilha, que o senhor encontra no endereço: https://tecnofamapp.cpao.embrapa.br/. <br><br>Lembre-se de que é importante planejar bem a integração, levando em consideração as características da sua propriedade e os seus objetivos.<br><br>Se tiver mais alguma dúvida, é só perguntar! 😉 <br></span> <a href=\"https://tecnofamapp.cpao.embrapa.br/.\" target=\"_blank\">https://tecnofamapp.cpao.embrapa.br/.</a>"
          },
          "metadata": {}
        },
        {
          "name": "stdout",
          "output_type": "stream",
          "text": [
            "-------------------------------------------\n",
            "eu penso em usar capim-elefante. To coreto no uso dele?\n"
          ]
        },
        {
          "output_type": "display_data",
          "data": {
            "text/plain": [
              "<IPython.core.display.Markdown object>"
            ],
            "text/markdown": "> <span style=\"color: #FF0000;\">**Gemini**: </span><span style=\"color: #008000;\">O capim-elefante é uma excelente opção para a alimentação do gado, Sr. Evandro! 👍<br><br>Ele é uma planta de **alto rendimento** e com **bom valor nutritivo**. <br><br>Porém, é importante se atentar a alguns pontos para o seu uso:<br><br>*   **Escolha da variedade:** existem várias variedades de capim-elefante, cada uma com características diferentes. É importante escolher uma variedade adaptada às condições da sua região.<br>*   **Manejo da pastagem:** o capim-elefante precisa ser manejado corretamente para garantir a sua produtividade e qualidade. <br>*   **Adubação:** o capim-elefante é uma planta exigente em nutrientes, por isso é importante fazer a adubação correta. <br><br>O senhor pode encontrar mais informações sobre o manejo do capim-elefante no capítulo **\"Manejo de Pastagens\"** da cartilha, disponível em: https://tecnofamapp.cpao.embrapa.br/.<br><br>Se o senhor quiser saber mais sobre algum ponto específico do manejo do capim-elefante, é só perguntar! 😉<br></span> <a href=\"https://tecnofamapp.cpao.embrapa.br/.\" target=\"_blank\">https://tecnofamapp.cpao.embrapa.br/.</a>"
          },
          "metadata": {}
        },
        {
          "name": "stdout",
          "output_type": "stream",
          "text": [
            "-------------------------------------------\n",
            "si não for usar o campi o que posso usa?\n"
          ]
        },
        {
          "output_type": "display_data",
          "data": {
            "text/plain": [
              "<IPython.core.display.Markdown object>"
            ],
            "text/markdown": "> <span style=\"color: #FF0000;\">**Gemini**: </span><span style=\"color: #008000;\">Existem várias outras opções de forrageiras que o senhor pode utilizar, Sr. Evandro. A escolha vai depender de alguns fatores, como:<br><br>*   **Clima e solo da sua região**<br>*   **Tipo de animal que será criado**<br>*   **Objetivo da produção**<br><br>Algumas opções de forrageiras são:<br><br>*   **Braquiária:**  é um gênero de gramíneas forrageiras tropicais, de crescimento rápido, ótima para pastejo rotacionado.<br>*   **Panicum:**  é um gênero de gramíneas forrageiras, com alta produção de forragem e boa qualidade nutricional. <br>*   **Tanzânia:** é uma gramínea de crescimento rápido, com boa produção de forragem e alta palatabilidade.<br><br>Para escolher a melhor forrageira para a sua propriedade, é importante consultar um técnico especializado. 😉 <br><br>O capítulo **\"Manejo de Pastagens\"** da cartilha pode te ajudar a entender melhor sobre as opções de forrageiras. O senhor encontra a cartilha completa em: https://tecnofamapp.cpao.embrapa.br/. <br></span> <a href=\"https://tecnofamapp.cpao.embrapa.br/.\" target=\"_blank\">https://tecnofamapp.cpao.embrapa.br/.</a>"
          },
          "metadata": {}
        },
        {
          "name": "stdout",
          "output_type": "stream",
          "text": [
            "-------------------------------------------\n",
            "fim\n"
          ]
        },
        {
          "output_type": "display_data",
          "data": {
            "text/plain": [
              "<IPython.core.display.Markdown object>"
            ],
            "text/markdown": "> <span style=\"color: #FF0000;\">**Gemini**: </span><span style=\"color: #008000;\">Foi um prazer ajudar, Sr. Evandro! 😊<br><br>Se precisar de mais alguma informação, é só voltar a qualquer momento. 😉 <br><br>Tenha um ótimo dia! <br><br><br></span>"
          },
          "metadata": {}
        },
        {
          "output_type": "stream",
          "name": "stdout",
          "text": [
            "-------------------------------------------\n"
          ]
        }
      ]
    }
  ]
}